{
 "cells": [
  {
   "cell_type": "markdown",
   "metadata": {},
   "source": [
    "# Title\n",
    "New York, Paris, and London; do they have similarities?\n",
    "\n",
    "Is New York City more like London or Paris or vice versa? These cities are in different countries, so obviously we would assume that they should be completely different. These cities are similar in the fact that they are multicultural cities that attract travelers from all over the world, so there is bound to be some similarities.\n",
    "\n",
    "## Purpose\n",
    "The focus of this project is to use a clustering algorithm - KMeans- to cluster similar Boroughs in these cities together and try to find similarities."
   ]
  },
  {
   "cell_type": "markdown",
   "metadata": {},
   "source": [
    "### Newyork Data\n",
    "\n",
    "The newyork data was gotten from this wikipedia page https://en.wikipedia.org/wiki/Neighborhoods_in_New_York_City, found a table containing all the boroughs in Newyork city, neighboourhoods in each borough, the population size and land size. Only the names of boroughs are required for this project, so I did the neccesary data cleaning.\n",
    "\n",
    "There are 5 Boroughs in Newyork city\n",
    "\n",
    "\n",
    "### Paris Data\n",
    "The Paris data gotten from this wikipedia page https://en.wikipedia.org/wiki/Arrondissements_of_Paris was a little complicated as column names are in french. Paris has a unique number of 'Arrondisements' and I'll be using them in this project.\n",
    "\n",
    "Paris has  --- Arrondisements\n",
    "\n",
    "\n",
    "### London Data\n",
    "Got the London data from https://en.wikipedia.org/wiki/List_of_places_in_London#Neighbourhoods. The column 'London borough' is the needed column. Here.\n",
    "\n",
    "London has -- Boroughs"
   ]
  },
  {
   "cell_type": "markdown",
   "metadata": {},
   "source": [
    "### Library Used\n",
    "\n",
    "1. Pandas\n",
    "2. Geocoder\n",
    "3. Foursquare\n",
    "4. KMeans\n",
    "5. Unicodedata\n",
    "6. Json"
   ]
  },
  {
   "cell_type": "markdown",
   "metadata": {},
   "source": [
    "### Steps\n",
    "\n",
    "After cleaning the cities data, the next step is to get the coordinates of the locations to be analyzed and then pass these coordinates into foursquare API to get the venue information in these cities.\n",
    "\n",
    "The clustering algorithm will be clustering location/boroughs together based on the type of venues. I'll be working with the top 10 venues in each place, so locations with similar venues will be grouped together."
   ]
  },
  {
   "cell_type": "code",
   "execution_count": null,
   "metadata": {},
   "outputs": [],
   "source": []
  }
 ],
 "metadata": {
  "kernelspec": {
   "display_name": "Python 3",
   "language": "python",
   "name": "python3"
  },
  "language_info": {
   "codemirror_mode": {
    "name": "ipython",
    "version": 3
   },
   "file_extension": ".py",
   "mimetype": "text/x-python",
   "name": "python",
   "nbconvert_exporter": "python",
   "pygments_lexer": "ipython3",
   "version": "3.7.6"
  }
 },
 "nbformat": 4,
 "nbformat_minor": 4
}
